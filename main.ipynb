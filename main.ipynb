{
 "cells": [
  {
   "cell_type": "code",
   "execution_count": 1,
   "metadata": {},
   "outputs": [],
   "source": [
    "#goals in this project\n",
    "#set up a black scholes pricing model\n",
    "#calculate greeks based on black scholes\n",
    "#come up with some manual test examples for both BS and Greeks\n",
    "#test BS against simple market data\n",
    "#test BS and Greeks against more complex market data\n",
    "#find discerpencies\n",
    "#explain discrepencies\n",
    "#find way to exploit discrepencies using trading data"
   ]
  },
  {
   "cell_type": "code",
   "execution_count": 5,
   "metadata": {},
   "outputs": [],
   "source": [
    "#initialize libraries\n",
    "import numpy as np\n",
    "import pandas as pd\n",
    "import math\n",
    "from scipy.stats import norm"
   ]
  },
  {
   "cell_type": "code",
   "execution_count": 30,
   "metadata": {},
   "outputs": [],
   "source": [
    "#Black Scholes Pricing Model\n",
    "\n",
    "#S = asset price\n",
    "#K = strike price\n",
    "#T = expiration time (yrs)\n",
    "#r = risk free rate (annualized)\n",
    "#sig = volatility\n",
    "\n",
    "class BlackScholes:\n",
    "    def __init__(self,S,K,T,r,sig):\n",
    "        self.S = S\n",
    "        self.K = K\n",
    "        self.T = T\n",
    "        self.r = r\n",
    "        self.sig = sig\n",
    "\n",
    "    def calcD1Term(self): #temporary term used in calculation\n",
    "        d1 = (np.log(self.S/self.K) + (self.r + (self.sig**2 / 2))*self.T)/(self.sig*math.sqrt(self.T))\n",
    "        return d1\n",
    "    \n",
    "    def calcD2Term(self,d1):#temporary term used in calculation, based on d1\n",
    "        d2 = d1 - self.sig*math.sqrt(self.T)\n",
    "        return d2\n",
    "        \n",
    "    def calcCumDist(self,dTerm): #creating a function in case we want to play with distribution\n",
    "        return norm.cdf(dTerm)\n",
    "\n",
    "\n",
    "    \n",
    "# class EuropeanCall(BlackScholes)\n",
    "\n",
    "# add pricing function based on call or put deliniation\n",
    "    "
   ]
  },
  {
   "cell_type": "code",
   "execution_count": 33,
   "metadata": {},
   "outputs": [
    {
     "name": "stdout",
     "output_type": "stream",
     "text": [
      "2.2595847460073566 0.023516768507566788 0.9880764823995289 0.509380968575469\n"
     ]
    }
   ],
   "source": [
    "testBS = BlackScholes(100,10,5,.05,1)\n",
    "\n",
    "d1 = testBS.calcD1Term()\n",
    "d2 = testBS.calcD2Term(d1)\n",
    "cum1 = testBS.calcCumDist(d1)\n",
    "cum2 = testBS.calcCumDist(d2)\n",
    "\n",
    "print(d1,d2,cum1,cum2)\n"
   ]
  }
 ],
 "metadata": {
  "kernelspec": {
   "display_name": "base",
   "language": "python",
   "name": "python3"
  },
  "language_info": {
   "codemirror_mode": {
    "name": "ipython",
    "version": 3
   },
   "file_extension": ".py",
   "mimetype": "text/x-python",
   "name": "python",
   "nbconvert_exporter": "python",
   "pygments_lexer": "ipython3",
   "version": "3.12.4"
  }
 },
 "nbformat": 4,
 "nbformat_minor": 2
}
