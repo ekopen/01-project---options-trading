{
 "cells": [
  {
   "cell_type": "code",
   "execution_count": 5,
   "metadata": {},
   "outputs": [],
   "source": [
    "#goals in this project\n",
    "#set up a black scholes pricing model\n",
    "#calculate greeks based on black scholes\n",
    "#come up with some manual test examples for both BS and Greeks\n",
    "#test BS against simple market data\n",
    "#test BS and Greeks against more complex market data\n",
    "#find discerpencies\n",
    "#explain discrepencies\n",
    "#find way to exploit discrepencies using trading data"
   ]
  },
  {
   "cell_type": "code",
   "execution_count": 6,
   "metadata": {},
   "outputs": [],
   "source": [
    "#initialize libraries\n",
    "import numpy as np\n",
    "import pandas as pd\n",
    "import math\n",
    "from scipy.stats import norm"
   ]
  },
  {
   "cell_type": "code",
   "execution_count": 13,
   "metadata": {},
   "outputs": [],
   "source": [
    "#Black Scholes Pricing Model\n",
    "\n",
    "#S = asset price\n",
    "#K = strike price\n",
    "#T = expiration time (yrs)\n",
    "#r = risk free rate (annualized)\n",
    "#sig = volatility\n",
    "\n",
    "# initialize the parent class\n",
    "class BlackScholes:\n",
    "    def __init__(self,S,K,T,r,sig):\n",
    "        self.S = S\n",
    "        self.K = K\n",
    "        self.T = T\n",
    "        self.r = r\n",
    "        self.sig = sig\n",
    "        self.d1 = self.calcD1Term()\n",
    "        self.d2 = self.calcD2Term(self.d1)\n",
    "\n",
    "    #temporary term used in calculation\n",
    "    def calcD1Term(self):\n",
    "        d1 = (np.log(self.S/self.K) + (self.r + (self.sig**2 / 2))*self.T)/(self.sig*math.sqrt(self.T))\n",
    "        return d1\n",
    "    \n",
    "    #temporary term used in calculation, based on d1\n",
    "    def calcD2Term(self,d1):\n",
    "        d2 = d1 - self.sig*math.sqrt(self.T)\n",
    "        return d2\n",
    "    \n",
    "    #creating functions for normal pdf and cdf in case we want to edit distribution\n",
    "    def calcCDF(self,dTerm): \n",
    "        return norm.cdf(dTerm)\n",
    "\n",
    "    def calcPDF(self,dTerm): \n",
    "        return norm.pdf(dTerm)\n",
    "    \n",
    "    # greek calculations that are the same for both put/calls below\n",
    "\n",
    "    def calcGamma(self):\n",
    "        return self.calcPDF(self.d1) / (self.S * self.sig * math.sqrt(self.T))\n",
    "\n",
    "    def calcVega(self):\n",
    "        return self.S * self.calcPDF(self.d1) * math.sqrt(self.T)\n"
   ]
  },
  {
   "cell_type": "code",
   "execution_count": 14,
   "metadata": {},
   "outputs": [],
   "source": [
    "\n",
    "#child class for call options\n",
    "class EuropeanCall(BlackScholes):\n",
    "    def __init__(self,S,K,T,r,sig):\n",
    "        super().__init__(S,K,T,r,sig)\n",
    "\n",
    "\n",
    "    def calcPrice(self):\n",
    "        return self.S * self.calcCDF(self.d1) - self.K *  (math.exp(-self.r * self.T)) * self.calcCDF(self.d2)\n",
    "\n",
    "    def calcDelta(self):\n",
    "        return self.calcCDF(self.d1)\n",
    "    \n",
    "    def calcTheta(self):\n",
    "        return - (self.S * self.calcPDF(self.d1)*self.sig)/(2*math.sqrt(self.T)) - (self.r * self.K * math.exp(-self.r * self.T) * self.calcCDF(self.d2))\n",
    "    \n",
    "    def calcRho(self):\n",
    "        return self.K * self.T * math.exp(-self.r * self.T) * self.calcCDF(self.d2)\n",
    "\n",
    "\n",
    "#child class for put options\n",
    "class EuropeanPut(BlackScholes):\n",
    "    def __init__(self,S,K,T,r,sig):\n",
    "        super().__init__(S,K,T,r,sig)\n",
    "        self.d1 = self.calcD1Term()\n",
    "        self.d2 = self.calcD2Term(self.d1)\n",
    "\n",
    "    def calcPrice(self):\n",
    "        return self.K *  (math.exp(-self.r * self.T)) * self.calcCDF(-self.d2) - self.S * self.calcCDF(-self.d1)\n",
    "    \n",
    "    def calcDelta(self):\n",
    "        return self.calcCDF(self.d1) - 1\n",
    "    \n",
    "    def calcTheta(self):\n",
    "        return - (self.S * self.calcPDF(self.d1)*self.sig)/(2*math.sqrt(self.T)) + (self.r * self.K * math.exp(-self.r * self.T) * self.calcCDF(-self.d2))\n",
    "    \n",
    "    def calcRho(self):\n",
    "        return -self.K * self.T * math.exp(-self.r * self.T) * self.calcCDF(-self.d2)\n",
    "\n",
    "    "
   ]
  },
  {
   "cell_type": "code",
   "execution_count": 15,
   "metadata": {},
   "outputs": [
    {
     "name": "stdout",
     "output_type": "stream",
     "text": [
      "17.319784002997224\n",
      "2.987870140851758\n",
      "0.01291808647514535\n",
      "64.59043237572676\n",
      "-0.21081478984472157\n",
      "0.5575631325089282\n",
      "-120.34674562661958\n"
     ]
    }
   ],
   "source": [
    "#testing prices, verified these are accurate withe an online calculator\n",
    "\n",
    "#TEST GREEKS WITH AN ONLINE CALC!\n",
    "\n",
    "testEC = EuropeanCall(100,110,5,.05,.1)\n",
    "print(testEC.calcPrice())\n",
    "\n",
    "testEP = EuropeanPut(100,110,5,.05,.1)\n",
    "print(testEP.calcPrice())\n",
    "\n",
    "print(testEC.calcGamma())\n",
    "print(testEC.calcVega())\n",
    "print(testEP.calcDelta())\n",
    "print(testEP.calcTheta())\n",
    "print(testEP.calcRho())"
   ]
  },
  {
   "cell_type": "code",
   "execution_count": null,
   "metadata": {},
   "outputs": [],
   "source": []
  }
 ],
 "metadata": {
  "kernelspec": {
   "display_name": "base",
   "language": "python",
   "name": "python3"
  },
  "language_info": {
   "codemirror_mode": {
    "name": "ipython",
    "version": 3
   },
   "file_extension": ".py",
   "mimetype": "text/x-python",
   "name": "python",
   "nbconvert_exporter": "python",
   "pygments_lexer": "ipython3",
   "version": "3.12.4"
  }
 },
 "nbformat": 4,
 "nbformat_minor": 2
}
