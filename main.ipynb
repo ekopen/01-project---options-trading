{
 "cells": [
  {
   "cell_type": "code",
   "execution_count": 1,
   "metadata": {},
   "outputs": [],
   "source": [
    "#goals in this project\n",
    "#set up a black scholes pricing model\n",
    "#calculate greeks based on black scholes\n",
    "#come up with some manual test examples for both BS and Greeks\n",
    "#test BS against simple market data\n",
    "#test BS and Greeks against more complex market data\n",
    "#find discerpencies\n",
    "#explain discrepencies\n",
    "#find way to exploit discrepencies using trading data"
   ]
  },
  {
   "cell_type": "code",
   "execution_count": 3,
   "metadata": {},
   "outputs": [],
   "source": [
    "#initialize libraries\n",
    "import numpy as np\n",
    "import pandas as pd\n",
    "import math\n",
    "from scipy.stats import norm"
   ]
  },
  {
   "cell_type": "code",
   "execution_count": 13,
   "metadata": {},
   "outputs": [],
   "source": [
    "#Black Scholes Pricing Model\n",
    "\n",
    "#S = asset price\n",
    "#K = strike price\n",
    "#T = expiration time (yrs)\n",
    "#r = risk free rate (annualized)\n",
    "#sig = volatility\n",
    "\n",
    "class BlackScholes:\n",
    "    def __init__(self,S,K,T,r,sig):\n",
    "        self.S = S\n",
    "        self.K = K\n",
    "        self.T = T\n",
    "        self.r = r\n",
    "        self.sig = sig\n",
    "\n",
    "    def calcD1Term(self): #temporary term used in calculation\n",
    "        d1 = (np.log(self.S/self.K) + (self.r + (self.sig**2 / 2))*self.T)/(self.sig*math.sqrt(self.T))\n",
    "        return d1\n",
    "    \n",
    "    def calcD2Term(self,d1):#temporary term used in calculation, based on d1\n",
    "        d2 = d1 - self.sig*math.sqrt(self.T)\n",
    "        return d2\n",
    "        \n",
    "    def calcCumDist(self,dTerm): #creating a function in case we want to play with distribution\n",
    "        return norm.cdf(dTerm)\n",
    "\n",
    "class EuropeanCall(BlackScholes):\n",
    "    def __init__(self,S,K,T,r,sig):\n",
    "        super().__init__(S,K,T,r,sig)\n",
    "        self.d1 = super().calcD1Term()\n",
    "        self.d2 = super().calcD2Term(self.d1)\n",
    "\n",
    "    def calcPrice(self):\n",
    "        return self.S * super().calcCumDist(self.d1) - self.K *  (math.e**(-self.r * self.T)) * super().calcCumDist(self.d2)\n",
    "\n",
    "class EuropeanPut(BlackScholes):\n",
    "    def __init__(self,S,K,T,r,sig):\n",
    "        super().__init__(S,K,T,r,sig)\n",
    "        self.d1 = super().calcD1Term()\n",
    "        self.d2 = super().calcD2Term(self.d1)\n",
    "\n",
    "    def calcPrice(self):\n",
    "        return self.K *  (math.e**(-self.r * self.T)) * super().calcCumDist(-self.d2) - self.S * super().calcCumDist(-self.d1)\n",
    "    "
   ]
  },
  {
   "cell_type": "code",
   "execution_count": 18,
   "metadata": {},
   "outputs": [
    {
     "name": "stdout",
     "output_type": "stream",
     "text": [
      "17.319784002997224\n",
      "2.987870140851758\n"
     ]
    }
   ],
   "source": [
    "# testBS = BlackScholes(100,110,5,.05,1)\n",
    "\n",
    "# d1 = testBS.calcD1Term()\n",
    "# d2 = testBS.calcD2Term(d1)\n",
    "# cum1 = testBS.calcCumDist(d1)\n",
    "# cum2 = testBS.calcCumDist(d2)\n",
    "\n",
    "# print(d1,d2,cum1,cum2)\n",
    "\n",
    "testEC = EuropeanCall(100,110,5,.05,.1)\n",
    "print(testEC.calcPrice())\n",
    "\n",
    "testEP = EuropeanPut(100,110,5,.05,.1)\n",
    "print(testEP.calcPrice())\n",
    "\n"
   ]
  },
  {
   "cell_type": "code",
   "execution_count": null,
   "metadata": {},
   "outputs": [],
   "source": []
  }
 ],
 "metadata": {
  "kernelspec": {
   "display_name": "base",
   "language": "python",
   "name": "python3"
  },
  "language_info": {
   "codemirror_mode": {
    "name": "ipython",
    "version": 3
   },
   "file_extension": ".py",
   "mimetype": "text/x-python",
   "name": "python",
   "nbconvert_exporter": "python",
   "pygments_lexer": "ipython3",
   "version": "3.12.4"
  }
 },
 "nbformat": 4,
 "nbformat_minor": 2
}
