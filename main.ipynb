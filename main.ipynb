{
 "cells": [
  {
   "cell_type": "code",
   "execution_count": 1,
   "metadata": {},
   "outputs": [],
   "source": [
    "#goals in this project\n",
    "#set up a black scholes pricing model\n",
    "#calculate greeks based on black scholes\n",
    "#come up with some manual test examples for both BS and Greeks\n",
    "#test BS against simple market data\n",
    "#test BS and Greeks against more complex market data\n",
    "#find discerpencies\n",
    "#explain discrepencies\n",
    "#find way to exploit discrepencies using trading data"
   ]
  },
  {
   "cell_type": "code",
   "execution_count": 3,
   "metadata": {},
   "outputs": [],
   "source": [
    "#initialize libraries\n",
    "import numpy as np\n",
    "import pandas as pd\n",
    "import math\n",
    "from scipy.stats import norm"
   ]
  },
  {
   "cell_type": "code",
   "execution_count": 23,
   "metadata": {},
   "outputs": [],
   "source": [
    "#Black Scholes Pricing Model\n",
    "\n",
    "#S = asset price\n",
    "#K = strike price\n",
    "#T = expiration time (yrs)\n",
    "#r = risk free rate (annualized)\n",
    "#sig = volatility\n",
    "\n",
    "# initialize the parent class\n",
    "class BlackScholes:\n",
    "    def __init__(self,S,K,T,r,sig):\n",
    "        self.S = S\n",
    "        self.K = K\n",
    "        self.T = T\n",
    "        self.r = r\n",
    "        self.sig = sig\n",
    "\n",
    "    #temporary term used in calculation\n",
    "    def calcD1Term(self):\n",
    "        d1 = (np.log(self.S/self.K) + (self.r + (self.sig**2 / 2))*self.T)/(self.sig*math.sqrt(self.T))\n",
    "        return d1\n",
    "    \n",
    "    #temporary term used in calculation, based on d1\n",
    "    def calcD2Term(self,d1):\n",
    "        d2 = d1 - self.sig*math.sqrt(self.T)\n",
    "        return d2\n",
    "    \n",
    "    #creating functions for normal pdf and cdf in case we want to edit distribution\n",
    "    def calcCDF(self,dTerm): \n",
    "        return norm.cdf(dTerm)\n",
    "\n",
    "    def calcPDF(self,dTerm): \n",
    "        return norm.pdf(dTerm)\n",
    "    \n",
    "    # greek calculations that are the same for both put/calls below\n",
    "\n",
    "    def gamma(self, dTerm):\n",
    "        return self.calcPDF(dTerm) / (self.S * self.sig * math.sqrt(self.T))\n",
    "\n",
    "    def vega(self, dTerm):\n",
    "        return self.S * self.calcPDF(dTerm) * math.sqrt(self.T)\n"
   ]
  },
  {
   "cell_type": "code",
   "execution_count": null,
   "metadata": {},
   "outputs": [],
   "source": [
    "\n",
    "#child class for call options\n",
    "class EuropeanCall(BlackScholes):\n",
    "    def __init__(self,S,K,T,r,sig):\n",
    "        super().__init__(S,K,T,r,sig)\n",
    "        self.d1 = self.calcD1Term()\n",
    "        self.d2 = self.calcD2Term(self.d1)\n",
    "\n",
    "    def calcPrice(self):\n",
    "        return self.S * self.calcCDF(self.d1) - self.K *  (math.exp(-self.r * self.T)) * self.calcCDF(self.d2)\n",
    "\n",
    "#child class for put options\n",
    "class EuropeanPut(BlackScholes):\n",
    "    def __init__(self,S,K,T,r,sig):\n",
    "        super().__init__(S,K,T,r,sig)\n",
    "        self.d1 = self.calcD1Term()\n",
    "        self.d2 = self.calcD2Term(self.d1)\n",
    "\n",
    "    def calcPrice(self):\n",
    "        return self.K *  (math.exp(-self.r * self.T)) * self.calcCDF(-self.d2) - self.S * self.calcCDF(-self.d1)\n",
    "    "
   ]
  },
  {
   "cell_type": "code",
   "execution_count": 25,
   "metadata": {},
   "outputs": [
    {
     "name": "stdout",
     "output_type": "stream",
     "text": [
      "17.319784002997224\n",
      "2.987870140851758\n"
     ]
    }
   ],
   "source": [
    "#testing prices, verified these are accurate withe an online calculator\n",
    "\n",
    "testEC = EuropeanCall(100,110,5,.05,.1)\n",
    "print(testEC.calcPrice())\n",
    "\n",
    "testEP = EuropeanPut(100,110,5,.05,.1)\n",
    "print(testEP.calcPrice())\n",
    "\n"
   ]
  },
  {
   "cell_type": "code",
   "execution_count": null,
   "metadata": {},
   "outputs": [],
   "source": []
  }
 ],
 "metadata": {
  "kernelspec": {
   "display_name": "base",
   "language": "python",
   "name": "python3"
  },
  "language_info": {
   "codemirror_mode": {
    "name": "ipython",
    "version": 3
   },
   "file_extension": ".py",
   "mimetype": "text/x-python",
   "name": "python",
   "nbconvert_exporter": "python",
   "pygments_lexer": "ipython3",
   "version": "3.12.4"
  }
 },
 "nbformat": 4,
 "nbformat_minor": 2
}
